{
 "cells": [
  {
   "cell_type": "code",
   "execution_count": 1,
   "metadata": {
    "collapsed": true
   },
   "outputs": [],
   "source": [
    "import numpy as np"
   ]
  },
  {
   "cell_type": "code",
   "execution_count": 51,
   "metadata": {},
   "outputs": [
    {
     "data": {
      "text/plain": [
       "array([    25.        ,     28.05046136,     31.47313529,     35.31343862,\n",
       "           39.62232981,     44.45698525,     49.88155787,     55.96802846,\n",
       "           62.79716079,     70.45957328,     79.0569415 ,     88.70334731,\n",
       "           99.52679264,    111.67089804,    125.29680841,    140.5853313 ,\n",
       "          157.73933612,    176.9864461 ,    198.58205868,    222.81273453,\n",
       "          250.        ,    280.50461358,    314.73135295,    353.13438616,\n",
       "          396.22329812,    444.56985251,    498.81557874,    559.68028464,\n",
       "          627.97160788,    704.59573282,    790.56941504,    887.03347308,\n",
       "          995.26792638,   1116.70898038,   1252.96808407,   1405.85331298,\n",
       "         1577.3933612 ,   1769.86446096,   1985.82058681,   2228.12734533,\n",
       "         2500.        ,   2805.04613575,   3147.31352949,   3531.34386156,\n",
       "         3962.23298115,   4445.6985251 ,   4988.15578742,   5596.80284642,\n",
       "         6279.71607877,   7045.95732816,   7905.69415042,   8870.33473084,\n",
       "         9952.67926384,  11167.08980377,  12529.68084068,  14058.53312976,\n",
       "        15773.933612  ,  17698.6446096 ,  19858.20586811,  22281.27345334,\n",
       "        25000.        ])"
      ]
     },
     "metadata": {},
     "output_type": "display_data"
    }
   ],
   "source": [
    "points_per_decade = 20\n",
    "decades = 3\n",
    "f = 25 * np.logspace(0, decades, decades*points_per_decade+1)\n",
    "display(f)"
   ]
  },
  {
   "cell_type": "markdown",
   "metadata": {},
   "source": [
    "# Fixed Point Implementation"
   ]
  },
  {
   "cell_type": "markdown",
   "metadata": {},
   "source": [
    "Low frequency value: 1 Hz\n",
    "\n",
    "High frequency value: 50 kHz\n",
    "\n",
    "16 bit upper limit 65536\n",
    "\n",
    "frequency is a 16 bit unsigned integer in Hertz"
   ]
  },
  {
   "cell_type": "code",
   "execution_count": 58,
   "metadata": {},
   "outputs": [
    {
     "data": {
      "text/plain": [
       "1250"
      ]
     },
     "metadata": {},
     "output_type": "display_data"
    }
   ],
   "source": [
    "base = 2500\n",
    "\n",
    "SysClk = 80000000\n",
    "max_bit_rate = 20000000\n",
    "sample_bits = 16\n",
    "channels = 2\n",
    "memory_length = 500\n",
    "base = max_bit_rate // sample_bits // channels // memory_length\n",
    "display(base)\n",
    "\n",
    "def ab(f):\n",
    "    results = list()\n",
    "    for b in range(1+(f-1)//base, 21):\n",
    "        a = base * b // f\n",
    "        if f - base * b // a > f - base * b // (a + 1):\n",
    "            a = a + 1\n",
    "        candidate = base * b // a\n",
    "        delta = ((abs(f - candidate)<<16) // f)\n",
    "        if delta < 6554: # 10% # 3277: # 5% #1966: # 3%\n",
    "            return a, b, f, candidate, delta / 2**16\n",
    "        else:\n",
    "            results.append((a, b, f, candidate, delta))\n",
    "    display(\"Warning: delta > 5%\")\n",
    "    results.sort(key=lambda r: r[4])\n",
    "    a, b, f, candidate, delta = results[0]\n",
    "    return a, b, f, candidate, delta / 2**16"
   ]
  },
  {
   "cell_type": "code",
   "execution_count": 59,
   "metadata": {
    "scrolled": false
   },
   "outputs": [
    {
     "data": {
      "text/plain": [
       "(50, 1, 25, 25, 0.0)"
      ]
     },
     "metadata": {},
     "output_type": "display_data"
    },
    {
     "data": {
      "text/plain": [
       "(44, 1, 28, 28, 0.0)"
      ]
     },
     "metadata": {},
     "output_type": "display_data"
    },
    {
     "data": {
      "text/plain": [
       "(40, 1, 31, 31, 0.0)"
      ]
     },
     "metadata": {},
     "output_type": "display_data"
    },
    {
     "data": {
      "text/plain": [
       "(35, 1, 35, 35, 0.0)"
      ]
     },
     "metadata": {},
     "output_type": "display_data"
    },
    {
     "data": {
      "text/plain": [
       "(31, 1, 40, 40, 0.0)"
      ]
     },
     "metadata": {},
     "output_type": "display_data"
    },
    {
     "data": {
      "text/plain": [
       "(28, 1, 44, 44, 0.0)"
      ]
     },
     "metadata": {},
     "output_type": "display_data"
    },
    {
     "data": {
      "text/plain": [
       "(25, 1, 50, 50, 0.0)"
      ]
     },
     "metadata": {},
     "output_type": "display_data"
    },
    {
     "data": {
      "text/plain": [
       "(22, 1, 56, 56, 0.0)"
      ]
     },
     "metadata": {},
     "output_type": "display_data"
    },
    {
     "data": {
      "text/plain": [
       "(19, 1, 63, 65, 0.03173828125)"
      ]
     },
     "metadata": {},
     "output_type": "display_data"
    },
    {
     "data": {
      "text/plain": [
       "(17, 1, 70, 73, 0.0428466796875)"
      ]
     },
     "metadata": {},
     "output_type": "display_data"
    },
    {
     "data": {
      "text/plain": [
       "(15, 1, 79, 83, 0.050628662109375)"
      ]
     },
     "metadata": {},
     "output_type": "display_data"
    },
    {
     "data": {
      "text/plain": [
       "(14, 1, 89, 89, 0.0)"
      ]
     },
     "metadata": {},
     "output_type": "display_data"
    },
    {
     "data": {
      "text/plain": [
       "(12, 1, 100, 104, 0.0399932861328125)"
      ]
     },
     "metadata": {},
     "output_type": "display_data"
    },
    {
     "data": {
      "text/plain": [
       "(11, 1, 112, 113, 0.0089263916015625)"
      ]
     },
     "metadata": {},
     "output_type": "display_data"
    },
    {
     "data": {
      "text/plain": [
       "(10, 1, 125, 125, 0.0)"
      ]
     },
     "metadata": {},
     "output_type": "display_data"
    },
    {
     "data": {
      "text/plain": [
       "(17, 2, 141, 147, 0.04254150390625)"
      ]
     },
     "metadata": {},
     "output_type": "display_data"
    },
    {
     "data": {
      "text/plain": [
       "(15, 2, 158, 166, 0.050628662109375)"
      ]
     },
     "metadata": {},
     "output_type": "display_data"
    },
    {
     "data": {
      "text/plain": [
       "(7, 1, 177, 178, 0.005645751953125)"
      ]
     },
     "metadata": {},
     "output_type": "display_data"
    },
    {
     "data": {
      "text/plain": [
       "(6, 1, 199, 208, 0.0452117919921875)"
      ]
     },
     "metadata": {},
     "output_type": "display_data"
    },
    {
     "data": {
      "text/plain": [
       "(11, 2, 223, 227, 0.0179290771484375)"
      ]
     },
     "metadata": {},
     "output_type": "display_data"
    },
    {
     "data": {
      "text/plain": [
       "(5, 1, 250, 250, 0.0)"
      ]
     },
     "metadata": {},
     "output_type": "display_data"
    },
    {
     "data": {
      "text/plain": [
       "(13, 3, 281, 288, 0.02490234375)"
      ]
     },
     "metadata": {},
     "output_type": "display_data"
    },
    {
     "data": {
      "text/plain": [
       "(11, 3, 315, 340, 0.0793609619140625)"
      ]
     },
     "metadata": {},
     "output_type": "display_data"
    },
    {
     "data": {
      "text/plain": [
       "(7, 2, 353, 357, 0.011322021484375)"
      ]
     },
     "metadata": {},
     "output_type": "display_data"
    },
    {
     "data": {
      "text/plain": [
       "(3, 1, 396, 416, 0.0504913330078125)"
      ]
     },
     "metadata": {},
     "output_type": "display_data"
    },
    {
     "data": {
      "text/plain": [
       "(8, 3, 445, 468, 0.0516815185546875)"
      ]
     },
     "metadata": {},
     "output_type": "display_data"
    },
    {
     "data": {
      "text/plain": [
       "(5, 2, 499, 500, 0.0019989013671875)"
      ]
     },
     "metadata": {},
     "output_type": "display_data"
    },
    {
     "data": {
      "text/plain": [
       "(11, 5, 560, 568, 0.0142822265625)"
      ]
     },
     "metadata": {},
     "output_type": "display_data"
    },
    {
     "data": {
      "text/plain": [
       "(11, 6, 628, 681, 0.084381103515625)"
      ]
     },
     "metadata": {},
     "output_type": "display_data"
    },
    {
     "data": {
      "text/plain": [
       "(5, 3, 705, 750, 0.0638275146484375)"
      ]
     },
     "metadata": {},
     "output_type": "display_data"
    },
    {
     "data": {
      "text/plain": [
       "(3, 2, 791, 833, 0.0530853271484375)"
      ]
     },
     "metadata": {},
     "output_type": "display_data"
    },
    {
     "data": {
      "text/plain": [
       "(4, 3, 887, 937, 0.056365966796875)"
      ]
     },
     "metadata": {},
     "output_type": "display_data"
    },
    {
     "data": {
      "text/plain": [
       "(5, 4, 995, 1000, 0.0050201416015625)"
      ]
     },
     "metadata": {},
     "output_type": "display_data"
    },
    {
     "data": {
      "text/plain": [
       "(10, 9, 1117, 1125, 0.0071563720703125)"
      ]
     },
     "metadata": {},
     "output_type": "display_data"
    },
    {
     "data": {
      "text/plain": [
       "(10, 11, 1253, 1375, 0.09735107421875)"
      ]
     },
     "metadata": {},
     "output_type": "display_data"
    },
    {
     "data": {
      "text/plain": [
       "(5, 6, 1406, 1500, 0.0668487548828125)"
      ]
     },
     "metadata": {},
     "output_type": "display_data"
    },
    {
     "data": {
      "text/plain": [
       "(3, 4, 1577, 1666, 0.056427001953125)"
      ]
     },
     "metadata": {},
     "output_type": "display_data"
    },
    {
     "data": {
      "text/plain": [
       "(2, 3, 1770, 1875, 0.0593109130859375)"
      ]
     },
     "metadata": {},
     "output_type": "display_data"
    },
    {
     "data": {
      "text/plain": [
       "(3, 5, 1986, 2083, 0.048828125)"
      ]
     },
     "metadata": {},
     "output_type": "display_data"
    },
    {
     "data": {
      "text/plain": [
       "(5, 9, 2228, 2250, 0.0098724365234375)"
      ]
     },
     "metadata": {},
     "output_type": "display_data"
    },
    {
     "data": {
      "text/plain": [
       "(1, 2, 2500, 2500, 0.0)"
      ]
     },
     "metadata": {},
     "output_type": "display_data"
    },
    {
     "data": {
      "text/plain": [
       "(3, 7, 2805, 2916, 0.0395660400390625)"
      ]
     },
     "metadata": {},
     "output_type": "display_data"
    },
    {
     "data": {
      "text/plain": [
       "(3, 8, 3147, 3333, 0.0590972900390625)"
      ]
     },
     "metadata": {},
     "output_type": "display_data"
    },
    {
     "data": {
      "text/plain": [
       "(1, 3, 3531, 3750, 0.06201171875)"
      ]
     },
     "metadata": {},
     "output_type": "display_data"
    },
    {
     "data": {
      "text/plain": [
       "(3, 10, 3962, 4166, 0.051483154296875)"
      ]
     },
     "metadata": {},
     "output_type": "display_data"
    },
    {
     "data": {
      "text/plain": [
       "(3, 11, 4446, 4583, 0.0308074951171875)"
      ]
     },
     "metadata": {},
     "output_type": "display_data"
    },
    {
     "data": {
      "text/plain": [
       "(1, 4, 4988, 5000, 0.0023956298828125)"
      ]
     },
     "metadata": {},
     "output_type": "display_data"
    },
    {
     "data": {
      "text/plain": [
       "(2, 9, 5597, 5625, 0.0049896240234375)"
      ]
     },
     "metadata": {},
     "output_type": "display_data"
    },
    {
     "data": {
      "text/plain": [
       "(2, 11, 6280, 6875, 0.0947418212890625)"
      ]
     },
     "metadata": {},
     "output_type": "display_data"
    },
    {
     "data": {
      "text/plain": [
       "(1, 6, 7046, 7500, 0.064422607421875)"
      ]
     },
     "metadata": {},
     "output_type": "display_data"
    },
    {
     "data": {
      "text/plain": [
       "(2, 13, 7906, 8125, 0.0276947021484375)"
      ]
     },
     "metadata": {},
     "output_type": "display_data"
    },
    {
     "data": {
      "text/plain": [
       "(2, 15, 8870, 9375, 0.0569305419921875)"
      ]
     },
     "metadata": {},
     "output_type": "display_data"
    },
    {
     "data": {
      "text/plain": [
       "(1, 8, 9953, 10000, 0.0047149658203125)"
      ]
     },
     "metadata": {},
     "output_type": "display_data"
    },
    {
     "data": {
      "text/plain": [
       "(1, 9, 11167, 11250, 0.0074310302734375)"
      ]
     },
     "metadata": {},
     "output_type": "display_data"
    },
    {
     "data": {
      "text/plain": [
       "(1, 11, 12530, 13750, 0.09735107421875)"
      ]
     },
     "metadata": {},
     "output_type": "display_data"
    },
    {
     "data": {
      "text/plain": [
       "(1, 12, 14059, 15000, 0.066925048828125)"
      ]
     },
     "metadata": {},
     "output_type": "display_data"
    },
    {
     "data": {
      "text/plain": [
       "(1, 13, 15774, 16250, 0.0301666259765625)"
      ]
     },
     "metadata": {},
     "output_type": "display_data"
    },
    {
     "data": {
      "text/plain": [
       "(1, 15, 17699, 18750, 0.0593719482421875)"
      ]
     },
     "metadata": {},
     "output_type": "display_data"
    },
    {
     "data": {
      "text/plain": [
       "(1, 16, 19858, 20000, 0.00714111328125)"
      ]
     },
     "metadata": {},
     "output_type": "display_data"
    },
    {
     "data": {
      "text/plain": [
       "(1, 18, 22281, 22500, 0.00982666015625)"
      ]
     },
     "metadata": {},
     "output_type": "display_data"
    },
    {
     "data": {
      "text/plain": [
       "(1, 20, 25000, 25000, 0.0)"
      ]
     },
     "metadata": {},
     "output_type": "display_data"
    }
   ],
   "source": [
    "for _f in f:\n",
    "    display(ab(int(round(_f))))"
   ]
  },
  {
   "cell_type": "code",
   "execution_count": 56,
   "metadata": {},
   "outputs": [
    {
     "data": {
      "text/plain": [
       "1"
      ]
     },
     "execution_count": 56,
     "metadata": {},
     "output_type": "execute_result"
    }
   ],
   "source": [
    "2500//2500"
   ]
  },
  {
   "cell_type": "code",
   "execution_count": null,
   "metadata": {
    "collapsed": true
   },
   "outputs": [],
   "source": []
  }
 ],
 "metadata": {
  "kernelspec": {
   "display_name": "Python 3",
   "language": "python",
   "name": "python3"
  },
  "language_info": {
   "codemirror_mode": {
    "name": "ipython",
    "version": 3
   },
   "file_extension": ".py",
   "mimetype": "text/x-python",
   "name": "python",
   "nbconvert_exporter": "python",
   "pygments_lexer": "ipython3",
   "version": "3.6.3"
  }
 },
 "nbformat": 4,
 "nbformat_minor": 2
}
